{
 "cells": [
  {
   "cell_type": "code",
   "execution_count": 1,
   "metadata": {},
   "outputs": [],
   "source": [
    "import pandas as pd"
   ]
  },
  {
   "cell_type": "code",
   "execution_count": 4,
   "metadata": {},
   "outputs": [],
   "source": [
    "ref = pd.read_csv(\"static/zones-de-correspondance.csv\", sep=\";\")"
   ]
  },
  {
   "cell_type": "code",
   "execution_count": 18,
   "metadata": {},
   "outputs": [
    {
     "data": {
      "text/plain": [
       "ZdCType\n",
       "onstreetBus     14573\n",
       "railStation       482\n",
       "metroStation      300\n",
       "onstreetTram      213\n",
       "Name: count, dtype: int64"
      ]
     },
     "execution_count": 18,
     "metadata": {},
     "output_type": "execute_result"
    }
   ],
   "source": [
    "ref.ZdCType.value_counts()"
   ]
  },
  {
   "cell_type": "code",
   "execution_count": 14,
   "metadata": {},
   "outputs": [
    {
     "name": "stdout",
     "output_type": "stream",
     "text": [
      "ZdCTown    Burcy\n",
      "Name: Avrilmont, dtype: object\n"
     ]
    }
   ],
   "source": [
    "for k, v in ref[[\"ZdCName\", \"ZdCTown\"]].set_index(\"ZdCName\").iterrows():\n",
    "    print(v)\n",
    "    break"
   ]
  },
  {
   "cell_type": "code",
   "execution_count": null,
   "metadata": {},
   "outputs": [
    {
     "name": "stdout",
     "output_type": "stream",
     "text": [
      "abbesses\n",
      "ablon\n",
      "acheres_grand_cormier\n",
      "acheres_ville\n",
      "aime_cesaire\n",
      "alexandre_dumas\n",
      "alma_marceau\n",
      "alesia\n",
      "anatole_france\n",
      "andresy\n",
      "angerville\n",
      "antony\n",
      "anvers\n",
      "arcueil_cachan\n",
      "argenteuil\n",
      "argentine\n",
      "arpajon\n",
      "arts_et_metiers\n",
      "asnieres_gennevilliers_les_courtilles\n",
      "asnieres_sur_seine\n",
      "assemblee_nationale\n",
      "athis_mons\n",
      "auber\n",
      "aubergenville_élisabethville\n",
      "aubervilliers_pantin_quatre_chemins\n",
      "aulnay_sous_bois\n",
      "auneau\n",
      "auvers_sur_oise\n",
      "avenue_foch\n",
      "avenue_henri_martin\n",
      "avenue_du_president_kennedy_maison_de_radio_france\n",
      "avenue_émile_zola\n",
      "avron\n",
      "aeroport_cdg_terminal_2_(tgv)\n",
      "aeroport_cdg_1_(terminal_3)\n",
      "aeroport_d’orly_(terminal_4)\n",
      "aeroport_d’orly_(terminaux_1_2_3)\n",
      "bagneaux_sur_loing\n",
      "bagneux\n",
      "bagneux_lucie_aubrac\n",
      "balard\n",
      "ballancourt\n",
      "barbara\n",
      "barbes_rochechouart\n",
      "basilique_de_saint_denis\n",
      "bastille\n",
      "beauvais\n",
      "bel_air\n",
      "belleville\n",
      "belloy_saint_martin\n",
      "bercy\n",
      "bessancourt\n",
      "beynes\n",
      "bibliotheque_françois_mitterrand\n",
      "billancourt\n",
      "bir_hakeim\n",
      "bievres\n",
      "blanche\n",
      "bobigny_pantin_raymond_queneau\n",
      "bobigny_pablo_picasso\n",
      "boigneville\n",
      "bois_colombes\n",
      "bois_le_roi\n",
      "boissise_le_roi\n",
      "boissiere\n",
      "boissy_saint_leger\n",
      "boissy_l'aillerie\n",
      "bolivar\n",
      "bondy\n",
      "bonne_nouvelle\n",
      "bonneval\n",
      "bonnieres\n",
      "boran_sur_oise\n",
      "botzaris\n",
      "boucicaut\n",
      "bouffemont_moisselles\n",
      "bougival\n",
      "boulainvilliers\n",
      "boulogne_jean_jaures\n",
      "boulogne_pont_de_saint_cloud\n",
      "bouray\n",
      "bourg_la_reine\n",
      "bourron_marlotte_grez\n",
      "bourse\n",
      "boussy_saint_antoine\n",
      "boutigny\n",
      "breuillet_bruyeres_le_châtel\n",
      "breuillet_village\n",
      "brochant\n",
      "brunoy\n",
      "bruyeres_sur_oise\n",
      "bry_sur_marne\n",
      "breguet_sabin\n",
      "bretigny\n",
      "breval\n",
      "bueil\n",
      "buno_gironville\n",
      "bures_sur_yvette\n",
      "bussy_saint_georges\n",
      "buttes_chaumont\n",
      "buzenval\n",
      "becon_les_bruyeres\n",
      "berault\n",
      "cadet\n"
     ]
    },
    {
     "name": "stderr",
     "output_type": "stream",
     "text": [
      "--2024-11-22 13:26:24--  http://estacions.albertguillaumes.cat/img/paris/cadet.png\n",
      "Resolving estacions.albertguillaumes.cat (estacions.albertguillaumes.cat)... 82.98.132.9\n",
      "Connecting to estacions.albertguillaumes.cat (estacions.albertguillaumes.cat)|82.98.132.9|:80... "
     ]
    }
   ],
   "source": [
    "from back import get_all_zdc\n",
    "import os\n",
    "\n",
    "for zdc in get_all_zdc():\n",
    "    zdc_formatted = zdc.replace(' - ', '_').replace(' ', '_').replace(\"é\", \"e\").replace(\"è\", \"e\").replace(\"-\", \"_\").lower()\n",
    "    print(zdc_formatted)\n",
    "    if zdc_formatted[0] in [\"a\", \"b\"]:\n",
    "        continue\n",
    "    os.system(f\"wget http://estacions.albertguillaumes.cat/img/paris/{zdc_formatted}.png\")"
   ]
  }
 ],
 "metadata": {
  "kernelspec": {
   "display_name": "base",
   "language": "python",
   "name": "python3"
  },
  "language_info": {
   "codemirror_mode": {
    "name": "ipython",
    "version": 3
   },
   "file_extension": ".py",
   "mimetype": "text/x-python",
   "name": "python",
   "nbconvert_exporter": "python",
   "pygments_lexer": "ipython3",
   "version": "3.12.6"
  }
 },
 "nbformat": 4,
 "nbformat_minor": 2
}
